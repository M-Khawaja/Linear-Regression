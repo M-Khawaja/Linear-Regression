{
 "cells": [
  {
   "cell_type": "markdown",
   "metadata": {},
   "source": [
    "# **Project: Laptop prices (Linear Regression)**\n",
    "\n",
    "The goal of this analysis is to identify the features that most affect the price of a laptop using linear regression. \n",
    "\n",
    "The dataset being used contains a set of specifications plus the price of each laptop device, and was downloaded from Kaggle (https://www.kaggle.com/datasets/ironwolf437/laptop-price-dataset/data) under an Apache 2.0 license."
   ]
  },
  {
   "cell_type": "markdown",
   "metadata": {},
   "source": [
    "### **Importing key libraries.**"
   ]
  },
  {
   "cell_type": "code",
   "execution_count": 1,
   "metadata": {},
   "outputs": [],
   "source": [
    "import pandas as pd \n",
    "import numpy as np"
   ]
  },
  {
   "cell_type": "markdown",
   "metadata": {},
   "source": [
    "### **Loading and previewing the data.**"
   ]
  },
  {
   "cell_type": "code",
   "execution_count": 2,
   "metadata": {},
   "outputs": [
    {
     "name": "stdout",
     "output_type": "stream",
     "text": [
      "  Company      Product   TypeName  Inches                    ScreenResolution  \\\n",
      "0   Apple  MacBook Pro  Ultrabook    13.3  IPS Panel Retina Display 2560x1600   \n",
      "1   Apple  Macbook Air  Ultrabook    13.3                            1440x900   \n",
      "2      HP       250 G6   Notebook    15.6                   Full HD 1920x1080   \n",
      "3   Apple  MacBook Pro  Ultrabook    15.4  IPS Panel Retina Display 2880x1800   \n",
      "4   Apple  MacBook Pro  Ultrabook    13.3  IPS Panel Retina Display 2560x1600   \n",
      "\n",
      "  CPU_Company       CPU_Type  CPU_Frequency (GHz)  RAM (GB)  \\\n",
      "0       Intel        Core i5                  2.3         8   \n",
      "1       Intel        Core i5                  1.8         8   \n",
      "2       Intel  Core i5 7200U                  2.5         8   \n",
      "3       Intel        Core i7                  2.7        16   \n",
      "4       Intel        Core i5                  3.1         8   \n",
      "\n",
      "                Memory GPU_Company                GPU_Type  OpSys  \\\n",
      "0            128GB SSD       Intel  Iris Plus Graphics 640  macOS   \n",
      "1  128GB Flash Storage       Intel        HD Graphics 6000  macOS   \n",
      "2            256GB SSD       Intel         HD Graphics 620  No OS   \n",
      "3            512GB SSD         AMD          Radeon Pro 455  macOS   \n",
      "4            256GB SSD       Intel  Iris Plus Graphics 650  macOS   \n",
      "\n",
      "   Weight (kg)  Price (Euro)  \n",
      "0         1.37       1339.69  \n",
      "1         1.34        898.94  \n",
      "2         1.86        575.00  \n",
      "3         1.83       2537.45  \n",
      "4         1.37       1803.60  \n"
     ]
    }
   ],
   "source": [
    "df = pd.read_csv(\"laptop.csv\")\n",
    "\n",
    "#Previewing the data\n",
    "print(df.head())"
   ]
  },
  {
   "cell_type": "markdown",
   "metadata": {},
   "source": [
    "We want to know how many different laptops are included in the dataset, as well as the different features that are included."
   ]
  },
  {
   "cell_type": "code",
   "execution_count": 3,
   "metadata": {},
   "outputs": [
    {
     "name": "stdout",
     "output_type": "stream",
     "text": [
      "There are 1275 different laptops in the dataset.\n",
      "Index(['Company', 'Product', 'TypeName', 'Inches', 'ScreenResolution',\n",
      "       'CPU_Company', 'CPU_Type', 'CPU_Frequency (GHz)', 'RAM (GB)', 'Memory',\n",
      "       'GPU_Company', 'GPU_Type', 'OpSys', 'Weight (kg)', 'Price (Euro)'],\n",
      "      dtype='object')\n"
     ]
    }
   ],
   "source": [
    "print(f\"There are {len(df)} different laptops in the dataset.\")\n",
    "print(df.columns)"
   ]
  },
  {
   "cell_type": "markdown",
   "metadata": {},
   "source": [
    "We ask for the summary statistics for this data set."
   ]
  },
  {
   "cell_type": "code",
   "execution_count": 4,
   "metadata": {},
   "outputs": [
    {
     "data": {
      "text/html": [
       "<div>\n",
       "<style scoped>\n",
       "    .dataframe tbody tr th:only-of-type {\n",
       "        vertical-align: middle;\n",
       "    }\n",
       "\n",
       "    .dataframe tbody tr th {\n",
       "        vertical-align: top;\n",
       "    }\n",
       "\n",
       "    .dataframe thead th {\n",
       "        text-align: right;\n",
       "    }\n",
       "</style>\n",
       "<table border=\"1\" class=\"dataframe\">\n",
       "  <thead>\n",
       "    <tr style=\"text-align: right;\">\n",
       "      <th></th>\n",
       "      <th>Inches</th>\n",
       "      <th>CPU_Frequency (GHz)</th>\n",
       "      <th>RAM (GB)</th>\n",
       "      <th>Weight (kg)</th>\n",
       "      <th>Price (Euro)</th>\n",
       "    </tr>\n",
       "  </thead>\n",
       "  <tbody>\n",
       "    <tr>\n",
       "      <th>count</th>\n",
       "      <td>1275.000000</td>\n",
       "      <td>1275.000000</td>\n",
       "      <td>1275.000000</td>\n",
       "      <td>1275.000000</td>\n",
       "      <td>1275.000000</td>\n",
       "    </tr>\n",
       "    <tr>\n",
       "      <th>mean</th>\n",
       "      <td>15.022902</td>\n",
       "      <td>2.302980</td>\n",
       "      <td>8.440784</td>\n",
       "      <td>2.040525</td>\n",
       "      <td>1134.969059</td>\n",
       "    </tr>\n",
       "    <tr>\n",
       "      <th>std</th>\n",
       "      <td>1.429470</td>\n",
       "      <td>0.503846</td>\n",
       "      <td>5.097809</td>\n",
       "      <td>0.669196</td>\n",
       "      <td>700.752504</td>\n",
       "    </tr>\n",
       "    <tr>\n",
       "      <th>min</th>\n",
       "      <td>10.100000</td>\n",
       "      <td>0.900000</td>\n",
       "      <td>2.000000</td>\n",
       "      <td>0.690000</td>\n",
       "      <td>174.000000</td>\n",
       "    </tr>\n",
       "    <tr>\n",
       "      <th>25%</th>\n",
       "      <td>14.000000</td>\n",
       "      <td>2.000000</td>\n",
       "      <td>4.000000</td>\n",
       "      <td>1.500000</td>\n",
       "      <td>609.000000</td>\n",
       "    </tr>\n",
       "    <tr>\n",
       "      <th>50%</th>\n",
       "      <td>15.600000</td>\n",
       "      <td>2.500000</td>\n",
       "      <td>8.000000</td>\n",
       "      <td>2.040000</td>\n",
       "      <td>989.000000</td>\n",
       "    </tr>\n",
       "    <tr>\n",
       "      <th>75%</th>\n",
       "      <td>15.600000</td>\n",
       "      <td>2.700000</td>\n",
       "      <td>8.000000</td>\n",
       "      <td>2.310000</td>\n",
       "      <td>1496.500000</td>\n",
       "    </tr>\n",
       "    <tr>\n",
       "      <th>max</th>\n",
       "      <td>18.400000</td>\n",
       "      <td>3.600000</td>\n",
       "      <td>64.000000</td>\n",
       "      <td>4.700000</td>\n",
       "      <td>6099.000000</td>\n",
       "    </tr>\n",
       "  </tbody>\n",
       "</table>\n",
       "</div>"
      ],
      "text/plain": [
       "            Inches  CPU_Frequency (GHz)     RAM (GB)  Weight (kg)  \\\n",
       "count  1275.000000          1275.000000  1275.000000  1275.000000   \n",
       "mean     15.022902             2.302980     8.440784     2.040525   \n",
       "std       1.429470             0.503846     5.097809     0.669196   \n",
       "min      10.100000             0.900000     2.000000     0.690000   \n",
       "25%      14.000000             2.000000     4.000000     1.500000   \n",
       "50%      15.600000             2.500000     8.000000     2.040000   \n",
       "75%      15.600000             2.700000     8.000000     2.310000   \n",
       "max      18.400000             3.600000    64.000000     4.700000   \n",
       "\n",
       "       Price (Euro)  \n",
       "count   1275.000000  \n",
       "mean    1134.969059  \n",
       "std      700.752504  \n",
       "min      174.000000  \n",
       "25%      609.000000  \n",
       "50%      989.000000  \n",
       "75%     1496.500000  \n",
       "max     6099.000000  "
      ]
     },
     "execution_count": 4,
     "metadata": {},
     "output_type": "execute_result"
    }
   ],
   "source": [
    "df.describe()"
   ]
  },
  {
   "cell_type": "markdown",
   "metadata": {},
   "source": [
    "Observe that the numerical features are spread across different scales (e.g. the *Inches* column has a mean of ~15 and the *Weight (kg)* column has a mean of ~2). We will scale the data later on to avoid the features with larger values being given more weighting."
   ]
  },
  {
   "cell_type": "markdown",
   "metadata": {},
   "source": [
    "### **Cleaning the data.**"
   ]
  },
  {
   "cell_type": "markdown",
   "metadata": {},
   "source": [
    "We check whether any of the columns in our dataset contain missing values."
   ]
  },
  {
   "cell_type": "code",
   "execution_count": 5,
   "metadata": {},
   "outputs": [
    {
     "data": {
      "text/plain": [
       "Company                False\n",
       "Product                False\n",
       "TypeName               False\n",
       "Inches                 False\n",
       "ScreenResolution       False\n",
       "CPU_Company            False\n",
       "CPU_Type               False\n",
       "CPU_Frequency (GHz)    False\n",
       "RAM (GB)               False\n",
       "Memory                 False\n",
       "GPU_Company            False\n",
       "GPU_Type               False\n",
       "OpSys                  False\n",
       "Weight (kg)            False\n",
       "Price (Euro)           False\n",
       "dtype: bool"
      ]
     },
     "execution_count": 5,
     "metadata": {},
     "output_type": "execute_result"
    }
   ],
   "source": [
    "df.isna().any()"
   ]
  },
  {
   "cell_type": "markdown",
   "metadata": {},
   "source": [
    "There are no missing values in our dataset."
   ]
  },
  {
   "cell_type": "markdown",
   "metadata": {},
   "source": [
    "We check for duplicate rows."
   ]
  },
  {
   "cell_type": "code",
   "execution_count": 6,
   "metadata": {},
   "outputs": [
    {
     "name": "stdout",
     "output_type": "stream",
     "text": [
      "0\n"
     ]
    }
   ],
   "source": [
    "print(df.duplicated().sum())"
   ]
  },
  {
   "cell_type": "markdown",
   "metadata": {},
   "source": [
    "There are no duplicate rows."
   ]
  },
  {
   "cell_type": "markdown",
   "metadata": {},
   "source": [
    "### **Exploring the data.**\n",
    "\n",
    "We want to investigate which features of the Laptop correlate to its price.\n",
    "\n",
    "We will firstly scale the numerical data to avoid features with larger values being given more weighting."
   ]
  },
  {
   "cell_type": "code",
   "execution_count": 7,
   "metadata": {},
   "outputs": [],
   "source": [
    "from sklearn.preprocessing import MinMaxScaler\n",
    "\n",
    "#Selecting numeric columns (ignore categorical columns)\n",
    "numeric_df = df.select_dtypes(include = [float, int])\n",
    "\n",
    "scaler = MinMaxScaler()\n",
    "numeric_df_scaled = pd.DataFrame(scaler.fit_transform(numeric_df), columns = numeric_df.columns) #scaling the numeric columns\n",
    "\n",
    "df_scaled = df.copy()  #Making a copy of the original dataframe\n",
    "df_scaled[numeric_df.columns] = numeric_df_scaled  # Replacing numeric columns with scaled values\n"
   ]
  },
  {
   "cell_type": "markdown",
   "metadata": {},
   "source": [
    "We compute the Pearson correlation coefficient to assess whether there is a linear relationship between any of the numerical features and the price."
   ]
  },
  {
   "cell_type": "code",
   "execution_count": 8,
   "metadata": {},
   "outputs": [
    {
     "name": "stdout",
     "output_type": "stream",
     "text": [
      "                       Inches  CPU_Frequency (GHz)  RAM (GB)  Weight (kg)  \\\n",
      "Inches               1.000000             0.305037  0.241078     0.826638   \n",
      "CPU_Frequency (GHz)  0.305037             1.000000  0.366254     0.318649   \n",
      "RAM (GB)             0.241078             0.366254  1.000000     0.389370   \n",
      "Weight (kg)          0.826638             0.318649  0.389370     1.000000   \n",
      "Price (Euro)         0.066608             0.428847  0.740287     0.211883   \n",
      "\n",
      "                     Price (Euro)  \n",
      "Inches                   0.066608  \n",
      "CPU_Frequency (GHz)      0.428847  \n",
      "RAM (GB)                 0.740287  \n",
      "Weight (kg)              0.211883  \n",
      "Price (Euro)             1.000000  \n"
     ]
    }
   ],
   "source": [
    "#Computing correlation on numeric data\n",
    "correlation = numeric_df_scaled.corr(method = \"pearson\")\n",
    "print(correlation)"
   ]
  },
  {
   "cell_type": "markdown",
   "metadata": {},
   "source": [
    "From the table of correlation coefficients, we see that:\n",
    "- There is a moderately positive linear relationship between Price (Euro) and CPU_Frequency (GHz)\n",
    "- There is a strong positive linear relationship between Price (Euro) and RAM (GB)."
   ]
  },
  {
   "cell_type": "markdown",
   "metadata": {},
   "source": [
    "### **Visualising the data.**\n",
    "\n",
    "We will create scatter plots for the following variables to visualise these relationships:\n",
    "- Price (Euro) and CPU_Frequency (GHz)\n",
    "- Price (Euro) and RAM (GB)"
   ]
  },
  {
   "cell_type": "code",
   "execution_count": 9,
   "metadata": {},
   "outputs": [
    {
     "data": {
      "image/png": "[encoded data removed]",
      "text/plain": [
       "<Figure size 400x300 with 1 Axes>"
      ]
     },
     "metadata": {},
     "output_type": "display_data"
    }
   ],
   "source": [
    "from matplotlib import pyplot as plt\n",
    "\n",
    "plt.figure(figsize=(4, 3))\n",
    "\n",
    "plt.scatter(df_scaled[\"CPU_Frequency (GHz)\"], df_scaled[\"Price (Euro)\"], alpha = 0.4)\n",
    "plt.xlabel(\"CPU_Frequency (GHz)\")\n",
    "plt.ylabel(\"Price (Euro)\")\n",
    "plt.title(\"CPU Frequency vs Price\")\n",
    "plt.show()"
   ]
  },
  {
   "cell_type": "code",
   "execution_count": 10,
   "metadata": {},
   "outputs": [
    {
     "data": {
      "image/png": "[encoded data removed]",
      "text/plain": [
       "<Figure size 400x300 with 1 Axes>"
      ]
     },
     "metadata": {},
     "output_type": "display_data"
    }
   ],
   "source": [
    "plt.figure(figsize=(4, 3))\n",
    "\n",
    "plt.scatter(df_scaled[\"Price (Euro)\"], df_scaled[\"RAM (GB)\"], alpha = 0.4)\n",
    "plt.xlabel(\"RAM (GB)\")\n",
    "plt.ylabel(\"Price (Euro)\")\n",
    "plt.title(\"RAM vs Price\")\n",
    "plt.show()"
   ]
  },
  {
   "cell_type": "markdown",
   "metadata": {},
   "source": [
    "### **Selecting the data.**\n",
    "\n",
    "We will create a list of the features (CPU Frequency and RAM) that have the strongest correlations with the price, since this is the data that will be inserted into our Linear Regression model. "
   ]
  },
  {
   "cell_type": "code",
   "execution_count": 11,
   "metadata": {},
   "outputs": [],
   "source": [
    "features = df_scaled[[\"CPU_Frequency (GHz)\", \"RAM (GB)\"]]"
   ]
  },
  {
   "cell_type": "markdown",
   "metadata": {},
   "source": [
    "### **Training and testing sets.**\n",
    "\n",
    "We need to break our data into a training set (which trains the model) and a test set (which checks whether the model is performing well). We can use scikit-learn's *train_test_split* function to do so. We will train the model on 80% of the data, and use the other 20% to test the model.\n"
   ]
  },
  {
   "cell_type": "code",
   "execution_count": 12,
   "metadata": {},
   "outputs": [],
   "source": [
    "from sklearn.model_selection import train_test_split\n",
    "\n",
    "X_train, X_test, y_train, y_test = train_test_split(features, df_scaled[\"Price (Euro)\"], test_size = 0.2, random_state = 42)"
   ]
  },
  {
   "cell_type": "markdown",
   "metadata": {},
   "source": [
    "### **Creating and training the model.**\n",
    "\n",
    "We will use the *linear_model* module from scikit-learn, fitting and training the module on our training data."
   ]
  },
  {
   "cell_type": "code",
   "execution_count": 13,
   "metadata": {},
   "outputs": [
    {
     "data": {
      "text/html": [
       "<style>#sk-container-id-1 {color: black;}#sk-container-id-1 pre{padding: 0;}#sk-container-id-1 div.sk-toggleable {background-color: white;}#sk-container-id-1 label.sk-toggleable__label {cursor: pointer;display: block;width: 100%;margin-bottom: 0;padding: 0.3em;box-sizing: border-box;text-align: center;}#sk-container-id-1 label.sk-toggleable__label-arrow:before {content: \"▸\";float: left;margin-right: 0.25em;color: #696969;}#sk-container-id-1 label.sk-toggleable__label-arrow:hover:before {color: black;}#sk-container-id-1 div.sk-estimator:hover label.sk-toggleable__label-arrow:before {color: black;}#sk-container-id-1 div.sk-toggleable__content {max-height: 0;max-width: 0;overflow: hidden;text-align: left;background-color: #f0f8ff;}#sk-container-id-1 div.sk-toggleable__content pre {margin: 0.2em;color: black;border-radius: 0.25em;background-color: #f0f8ff;}#sk-container-id-1 input.sk-toggleable__control:checked~div.sk-toggleable__content {max-height: 200px;max-width: 100%;overflow: auto;}#sk-container-id-1 input.sk-toggleable__control:checked~label.sk-toggleable__label-arrow:before {content: \"▾\";}#sk-container-id-1 div.sk-estimator input.sk-toggleable__control:checked~label.sk-toggleable__label {background-color: #d4ebff;}#sk-container-id-1 div.sk-label input.sk-toggleable__control:checked~label.sk-toggleable__label {background-color: #d4ebff;}#sk-container-id-1 input.sk-hidden--visually {border: 0;clip: rect(1px 1px 1px 1px);clip: rect(1px, 1px, 1px, 1px);height: 1px;margin: -1px;overflow: hidden;padding: 0;position: absolute;width: 1px;}#sk-container-id-1 div.sk-estimator {font-family: monospace;background-color: #f0f8ff;border: 1px dotted black;border-radius: 0.25em;box-sizing: border-box;margin-bottom: 0.5em;}#sk-container-id-1 div.sk-estimator:hover {background-color: #d4ebff;}#sk-container-id-1 div.sk-parallel-item::after {content: \"\";width: 100%;border-bottom: 1px solid gray;flex-grow: 1;}#sk-container-id-1 div.sk-label:hover label.sk-toggleable__label {background-color: #d4ebff;}#sk-container-id-1 div.sk-serial::before {content: \"\";position: absolute;border-left: 1px solid gray;box-sizing: border-box;top: 0;bottom: 0;left: 50%;z-index: 0;}#sk-container-id-1 div.sk-serial {display: flex;flex-direction: column;align-items: center;background-color: white;padding-right: 0.2em;padding-left: 0.2em;position: relative;}#sk-container-id-1 div.sk-item {position: relative;z-index: 1;}#sk-container-id-1 div.sk-parallel {display: flex;align-items: stretch;justify-content: center;background-color: white;position: relative;}#sk-container-id-1 div.sk-item::before, #sk-container-id-1 div.sk-parallel-item::before {content: \"\";position: absolute;border-left: 1px solid gray;box-sizing: border-box;top: 0;bottom: 0;left: 50%;z-index: -1;}#sk-container-id-1 div.sk-parallel-item {display: flex;flex-direction: column;z-index: 1;position: relative;background-color: white;}#sk-container-id-1 div.sk-parallel-item:first-child::after {align-self: flex-end;width: 50%;}#sk-container-id-1 div.sk-parallel-item:last-child::after {align-self: flex-start;width: 50%;}#sk-container-id-1 div.sk-parallel-item:only-child::after {width: 0;}#sk-container-id-1 div.sk-dashed-wrapped {border: 1px dashed gray;margin: 0 0.4em 0.5em 0.4em;box-sizing: border-box;padding-bottom: 0.4em;background-color: white;}#sk-container-id-1 div.sk-label label {font-family: monospace;font-weight: bold;display: inline-block;line-height: 1.2em;}#sk-container-id-1 div.sk-label-container {text-align: center;}#sk-container-id-1 div.sk-container {/* jupyter's `normalize.less` sets `[hidden] { display: none; }` but bootstrap.min.css set `[hidden] { display: none !important; }` so we also need the `!important` here to be able to override the default hidden behavior on the sphinx rendered scikit-learn.org. See: https://github.com/scikit-learn/scikit-learn/issues/21755 */display: inline-block !important;position: relative;}#sk-container-id-1 div.sk-text-repr-fallback {display: none;}</style><div id=\"sk-container-id-1\" class=\"sk-top-container\"><div class=\"sk-text-repr-fallback\"><pre>LinearRegression()</pre><b>In a Jupyter environment, please rerun this cell to show the HTML representation or trust the notebook. <br />On GitHub, the HTML representation is unable to render, please try loading this page with nbviewer.org.</b></div><div class=\"sk-container\" hidden><div class=\"sk-item\"><div class=\"sk-estimator sk-toggleable\"><input class=\"sk-toggleable__control sk-hidden--visually\" id=\"sk-estimator-id-1\" type=\"checkbox\" checked><label for=\"sk-estimator-id-1\" class=\"sk-toggleable__label sk-toggleable__label-arrow\">LinearRegression</label><div class=\"sk-toggleable__content\"><pre>LinearRegression()</pre></div></div></div></div></div>"
      ],
      "text/plain": [
       "LinearRegression()"
      ]
     },
     "execution_count": 13,
     "metadata": {},
     "output_type": "execute_result"
    }
   ],
   "source": [
    "from sklearn.linear_model import LinearRegression\n",
    "\n",
    "model = LinearRegression()\n",
    "model.fit(X_train,y_train)"
   ]
  },
  {
   "cell_type": "markdown",
   "metadata": {},
   "source": [
    "### **Evaluating the model.**\n",
    "\n",
    "* We will compute the coefficient of determination (R^2) for our model (on both the training and testing set).\n",
    "  * This coefficient ranges from 0 to 1, and is a measure of how well a model fits a data set, where 1 is the best possible value.\n",
    "* We will also compute the Mean Absolute Error (MAE).\n",
    "  * The MAE is the average absolute difference between predicted and actual values."
   ]
  },
  {
   "cell_type": "code",
   "execution_count": 14,
   "metadata": {},
   "outputs": [
    {
     "name": "stdout",
     "output_type": "stream",
     "text": [
      "Training R^2: 0.5656605655696574\n",
      "Training MAE: 0.05703216617755663\n"
     ]
    }
   ],
   "source": [
    "print(\"Training R^2:\", model.score(X_train,y_train))\n",
    "\n",
    "from sklearn.metrics import mean_absolute_error\n",
    "\n",
    "print(\"Training MAE:\", mean_absolute_error(y_train, model.predict(X_train)))"
   ]
  },
  {
   "cell_type": "code",
   "execution_count": 15,
   "metadata": {},
   "outputs": [
    {
     "name": "stdout",
     "output_type": "stream",
     "text": [
      "Testing R^2: 0.6182273347334168\n",
      "Testing MAE: 0.05583661018793489\n"
     ]
    }
   ],
   "source": [
    "print(\"Testing R^2:\", model.score(X_test, y_test))\n",
    "print(\"Testing MAE:\", mean_absolute_error(y_test, model.predict(X_test)))"
   ]
  },
  {
   "cell_type": "markdown",
   "metadata": {},
   "source": [
    "The R^2 coefficient suggests the model is a moderate fit for both the training data and the testing data. \n",
    "\n",
    "The MAE score of around ~0.05 on both sets suggests there is a very low error rate in the model's predictions."
   ]
  },
  {
   "cell_type": "markdown",
   "metadata": {},
   "source": [
    "We can also use the model to predict prices from our testing data, and then compare these prices to the actual prices."
   ]
  },
  {
   "cell_type": "code",
   "execution_count": 16,
   "metadata": {},
   "outputs": [],
   "source": [
    "y_predicted = model.predict(X_test)"
   ]
  },
  {
   "cell_type": "code",
   "execution_count": 17,
   "metadata": {},
   "outputs": [
    {
     "data": {
      "image/png": "[encoded data removed]",
      "text/plain": [
       "<Figure size 400x300 with 1 Axes>"
      ]
     },
     "metadata": {},
     "output_type": "display_data"
    }
   ],
   "source": [
    "plt.figure(figsize = (4, 3))\n",
    "\n",
    "plt.scatter(y_test,y_predicted, alpha = 0.6)\n",
    "plt.xlabel(\"Predicted prices (Euro)\")\n",
    "plt.ylabel(\"Actual prices (Euro)\")\n",
    "\n",
    "plt.title(\"Actual vs predicted prices\")\n",
    "\n",
    "x_range = np.linspace(min(y_test), max(y_test), 100)\n",
    "plt.plot(x_range, x_range, color = 'red', linestyle = '--', label = \"y = x Line\")\n",
    "\n",
    "plt.show()"
   ]
  },
  {
   "cell_type": "markdown",
   "metadata": {},
   "source": [
    "The plot also displays the *y = x* line. For a perfect linear regression model, the data would be plotted along this line. We observe that *some* of the data is plotted along this line, meaning that the model correctly predicted some of the prices. However, there are some large deviations from the line meaning that the model's predictions aren't entirely accurate. Furthermore, the deviation of the points from the line increase as the prices increase (i.e. the model exhibits heteroscedasticity). "
   ]
  },
  {
   "cell_type": "markdown",
   "metadata": {},
   "source": [
    "### **Improvements (company)**\n",
    "\n",
    "We want to investigate whether adding the company producing the laptop improves the model.\n",
    "Since the company is a categorical variable, we want to convert it into a format suitable for analysis. "
   ]
  },
  {
   "cell_type": "code",
   "execution_count": 18,
   "metadata": {},
   "outputs": [],
   "source": [
    "from sklearn.pipeline import Pipeline\n",
    "from sklearn.compose import ColumnTransformer\n",
    "from sklearn.preprocessing import OneHotEncoder\n",
    "\n",
    "features_with_company = df_scaled[[\"CPU_Frequency (GHz)\", \"RAM (GB)\", \"Company\"]]\n",
    "\n",
    "# Resplitting the dataset into training and testing sets\n",
    "X_train_new, X_test_new, y_train_new, y_test_new = train_test_split(features_with_company, df_scaled[\"Price (Euro)\"], test_size = 0.2, random_state = 42)\n",
    "\n",
    "preprocessor = ColumnTransformer([\n",
    "    (\"cat\", OneHotEncoder(handle_unknown = \"ignore\"), [\"Company\"]),  # One-hot encoding the \"Company\" column\n",
    "    (\"num\", 'passthrough', [\"CPU_Frequency (GHz)\", \"RAM (GB)\"])  # Keeping numeric columns as they are\n",
    "])\n",
    "\n",
    "model_new = Pipeline([\n",
    "    (\"preprocessor\", preprocessor),  # Applying OneHotEncoding for the \"Company\" column\n",
    "    (\"regressor\", LinearRegression())  # Linear regression model\n",
    "])\n",
    "\n",
    "# Fitting the model to the data\n",
    "model_new.fit(X_train_new, y_train_new)\n",
    "\n",
    "# Predicting the values using the test set\n",
    "y_predicted_new = model_new.predict(X_test_new)"
   ]
  },
  {
   "cell_type": "markdown",
   "metadata": {},
   "source": [
    "Now we will evaluate the new model, again using the R^2 coefficient and the MAE score."
   ]
  },
  {
   "cell_type": "code",
   "execution_count": 19,
   "metadata": {},
   "outputs": [
    {
     "name": "stdout",
     "output_type": "stream",
     "text": [
      "New model R^2 (training): 0.6102999298065024\n",
      "Old model R^2 (training): 0.5656605655696574\n"
     ]
    }
   ],
   "source": [
    "print(\"New model R^2 (training):\", model_new.score(X_train_new,y_train_new))\n",
    "print(\"Old model R^2 (training):\", model.score(X_train,y_train))"
   ]
  },
  {
   "cell_type": "markdown",
   "metadata": {},
   "source": [
    "We will write a short function to compute the percentage difference in two values."
   ]
  },
  {
   "cell_type": "code",
   "execution_count": 20,
   "metadata": {},
   "outputs": [],
   "source": [
    "def prcnt_change(old: float, new: float) -> str:  \n",
    "    \"\"\"Computes percentage difference and returns as a formatted string.\"\"\"\n",
    "    prcnt = 100 * (new - old) / old\n",
    "    return f\"{round(prcnt, 2)}%\""
   ]
  },
  {
   "cell_type": "code",
   "execution_count": 21,
   "metadata": {},
   "outputs": [
    {
     "name": "stdout",
     "output_type": "stream",
     "text": [
      "The model's performance on the training set has improved by 7.89%\n"
     ]
    }
   ],
   "source": [
    "print(\"The model's performance on the training set has improved by\", prcnt_change(model.score(X_train,y_train), model_new.score(X_train_new,y_train_new)))"
   ]
  },
  {
   "cell_type": "code",
   "execution_count": 22,
   "metadata": {},
   "outputs": [
    {
     "name": "stdout",
     "output_type": "stream",
     "text": [
      "New model R^2 (testing): 0.6569038519797799\n",
      "Old model R^2 (testing): 0.6182273347334168\n",
      "The model's performance on the testing set has improved by 6.26%\n"
     ]
    }
   ],
   "source": [
    "print(\"New model R^2 (testing):\", model_new.score(X_test_new,y_test_new))\n",
    "print(\"Old model R^2 (testing):\", model.score(X_test,y_test))\n",
    "\n",
    "print(\"The model's performance on the testing set has improved by\", prcnt_change(model.score(X_test,y_test), model_new.score(X_test_new,y_test_new)))"
   ]
  },
  {
   "cell_type": "markdown",
   "metadata": {},
   "source": [
    "### **Improvements (memory)**\n",
    "\n",
    "We want to investigate whether adding the Memory column to the list of training features improves the model's performance.\n",
    "\n",
    "Let's remind ourselves of the values in the Memory column."
   ]
  },
  {
   "cell_type": "code",
   "execution_count": 23,
   "metadata": {},
   "outputs": [
    {
     "name": "stdout",
     "output_type": "stream",
     "text": [
      "['128GB SSD' '128GB Flash Storage' '256GB SSD' '512GB SSD' '500GB HDD'\n",
      " '256GB Flash Storage' '1TB HDD' '32GB Flash Storage'\n",
      " '128GB SSD +  1TB HDD' '256GB SSD +  256GB SSD' '64GB Flash Storage'\n",
      " '256GB SSD +  1TB HDD' '256GB SSD +  2TB HDD' '32GB SSD' '2TB HDD'\n",
      " '64GB SSD' '1.0TB Hybrid' '512GB SSD +  1TB HDD' '1TB SSD'\n",
      " '256GB SSD +  500GB HDD' '128GB SSD +  2TB HDD' '512GB SSD +  512GB SSD'\n",
      " '16GB SSD' '16GB Flash Storage' '512GB SSD +  256GB SSD'\n",
      " '512GB SSD +  2TB HDD' '64GB Flash Storage +  1TB HDD' '180GB SSD'\n",
      " '1TB HDD +  1TB HDD' '32GB HDD' '1TB SSD +  1TB HDD'\n",
      " '512GB Flash Storage' '128GB HDD' '240GB SSD' '8GB SSD' '508GB Hybrid'\n",
      " '1.0TB HDD' '512GB SSD +  1.0TB Hybrid' '256GB SSD +  1.0TB Hybrid']\n"
     ]
    }
   ],
   "source": [
    "print(df.Memory.unique())"
   ]
  },
  {
   "cell_type": "markdown",
   "metadata": {},
   "source": [
    "Observe that there are 4 storage types: **SSD**, **HDD**, **Hybrid** and **Flash Storage**. \n",
    "\n",
    "An **SSD** (Solid-State Drive) is a fast and energy-efficient storage device with no moving parts, which makes it ideal for speed and reliability. A **HDD** (Hard Disk Drive) uses spinning disks to store data, offering larger storage capacity at a lower cost but with slower performance. \n",
    "\n",
    "Hybrid drives are a combination of both technologies, using a small SSD for frequently accessed data while relying on an HDD for bulk storage.\n",
    "\n",
    "We will class a Hybrid drive as a HDD as it still has moving parts and isn't as fast as an SSD.\n",
    "\n",
    "We will class Flash Storage as an SSD as they are often used interchangeably for marketing purposes."
   ]
  },
  {
   "cell_type": "markdown",
   "metadata": {},
   "source": [
    "**Memory conversion**.\n",
    "\n",
    "We want to write a function that splits a value in the Memory column into four parts:\n",
    "* Primary storage capacity (int)\n",
    "* Primary SSD (0/1)\n",
    "* Secondary storage capacity (int)\n",
    "* Secondary SSD (0/1)\n",
    "  "
   ]
  },
  {
   "cell_type": "code",
   "execution_count": 24,
   "metadata": {},
   "outputs": [],
   "source": [
    "import re\n",
    "\n",
    "def process_memory(memory):\n",
    "    # Clean input\n",
    "    memory = memory.strip().upper()  # Remove extra spaces & make case-insensitive\n",
    "    \n",
    "    # Split into parts (handle '+' if multiple storage devices exist)\n",
    "    parts = [x.strip() for x in memory.split(\"+\")]\n",
    "\n",
    "    primary_storage = 0\n",
    "    secondary_storage = 0\n",
    "    primary_ssd = 0\n",
    "    secondary_ssd = 0\n",
    "    \n",
    "    for i, part in enumerate(parts):\n",
    "        # Extract storage size (handles GB and TB)\n",
    "        match = re.search(r'(\\d+)(TB|GB)', part)\n",
    "        if not match:\n",
    "            print(f\"Skipping invalid entry: {part}\")  # Debugging step\n",
    "            continue  # Skip if format is incorrect\n",
    "        \n",
    "        size, unit = match.groups()\n",
    "        size_in_gb = int(size) * (1000 if unit == \"TB\" else 1)  # Convert TB to GB\n",
    "\n",
    "        # Determine if SSD\n",
    "        is_ssd = 1 if \"SSD\" in part or \"FLASH STORAGE\" in part else 0\n",
    "\n",
    "        # Assign to primary or secondary storage\n",
    "        if i == 0:\n",
    "            primary_storage, primary_ssd = size_in_gb, is_ssd\n",
    "        else:\n",
    "            secondary_storage, secondary_ssd = size_in_gb, is_ssd\n",
    "\n",
    "    return pd.Series([primary_storage, secondary_storage, primary_ssd, secondary_ssd], \n",
    "                     index = [\"Primary_Storage\", \"Secondary_Storage\", \"Primary_SSD\", \"Secondary_SSD\"])"
   ]
  },
  {
   "cell_type": "markdown",
   "metadata": {},
   "source": [
    "Now that we have our conversion function, we can apply it to the Memory column."
   ]
  },
  {
   "cell_type": "code",
   "execution_count": 25,
   "metadata": {},
   "outputs": [],
   "source": [
    "df = df.join(df[\"Memory\"].apply(lambda x: pd.Series(process_memory(str(x)))))\n",
    "df.drop(columns = [\"Memory\"], inplace=True)  #Dropping text column"
   ]
  },
  {
   "cell_type": "markdown",
   "metadata": {},
   "source": [
    "Before training the new model, we want to rescale the data as we've added new numerical columns."
   ]
  },
  {
   "cell_type": "code",
   "execution_count": 26,
   "metadata": {},
   "outputs": [],
   "source": [
    "#Selecting numeric columns (ignore categorical columns)\n",
    "numeric_df = df.select_dtypes(include = [float, int])\n",
    "\n",
    "scaler = MinMaxScaler()\n",
    "numeric_df_scaled = pd.DataFrame(scaler.fit_transform(numeric_df), columns = numeric_df.columns) #scaling the numeric columns\n",
    "\n",
    "df_scaled = df.copy()  #Making a copy of the original dataframe\n",
    "df_scaled[numeric_df.columns] = numeric_df_scaled  #Replacing numeric columns with scaled values"
   ]
  },
  {
   "cell_type": "markdown",
   "metadata": {},
   "source": [
    "Now we'll select the features we want to train our new model on."
   ]
  },
  {
   "cell_type": "code",
   "execution_count": 27,
   "metadata": {},
   "outputs": [],
   "source": [
    "features_with_memory = df_scaled[[\"CPU_Frequency (GHz)\", \"RAM (GB)\", \"Company\", \"Primary_Storage\", \"Primary_SSD\", \"Secondary_Storage\", \"Secondary_SSD\" ]] #Adding new Memory columns"
   ]
  },
  {
   "cell_type": "markdown",
   "metadata": {},
   "source": [
    "Now we can train a new model."
   ]
  },
  {
   "cell_type": "code",
   "execution_count": 28,
   "metadata": {},
   "outputs": [],
   "source": [
    "# Resplitting the dataset into training and testing sets\n",
    "X_train_memory, X_test_memory, y_train_memory, y_test_memory = train_test_split(features_with_memory, df_scaled[\"Price (Euro)\"], test_size = 0.2, random_state = 42)\n",
    "\n",
    "preprocessor = ColumnTransformer([\n",
    "    (\"cat\", OneHotEncoder(handle_unknown = \"ignore\"), [\"Company\"]),  # One-hot encoding the \"Company\" column\n",
    "    (\"num\", 'passthrough', [\"CPU_Frequency (GHz)\", \"RAM (GB)\", \"Primary_Storage\", \"Primary_SSD\", \"Secondary_Storage\", \"Secondary_SSD\"])  # Keeping numeric columns as they are\n",
    "])\n",
    "\n",
    "model_with_memory = Pipeline([\n",
    "    (\"preprocessor\", preprocessor),  # Applying OneHotEncoding for the \"Company\" column\n",
    "    (\"regressor\", LinearRegression())  # Linear regression model\n",
    "])\n",
    "\n",
    "# Fitting the model to the data\n",
    "model_with_memory.fit(X_train_memory, y_train_memory)\n",
    "\n",
    "# Predicting the values using the test set\n",
    "y_predicted_memory = model_with_memory.predict(X_test_memory)"
   ]
  },
  {
   "cell_type": "markdown",
   "metadata": {},
   "source": [
    "Now we will evaluate the new model."
   ]
  },
  {
   "cell_type": "code",
   "execution_count": 29,
   "metadata": {},
   "outputs": [
    {
     "name": "stdout",
     "output_type": "stream",
     "text": [
      "R^2 score (model with memory, training): 0.6499382281478613\n",
      "R^2 score (previous model, training): 0.6102999298065024\n",
      "The model's R^2 score on the training set has improved by 6.49%\n"
     ]
    }
   ],
   "source": [
    "print(\"R^2 score (model with memory, training):\", model_with_memory.score(X_train_memory,y_train_memory))\n",
    "print(\"R^2 score (previous model, training):\", model_new.score(X_train_new,y_train_new))\n",
    "\n",
    "print(\"The model's R^2 score on the training set has improved by\", prcnt_change(model_new.score(X_train_new,y_train_new),model_with_memory.score(X_train_memory,y_train_memory)))\n"
   ]
  },
  {
   "cell_type": "code",
   "execution_count": 30,
   "metadata": {},
   "outputs": [
    {
     "name": "stdout",
     "output_type": "stream",
     "text": [
      "R^2 score (model with memory, testing): 0.7063635681211786\n",
      "R^2 score (previous model, testing): 0.6569038519797799\n",
      "The model's performance on the testing set has improved by 7.53%\n"
     ]
    }
   ],
   "source": [
    "print(\"R^2 score (model with memory, testing):\", model_with_memory.score(X_test_memory,y_test_memory))\n",
    "print(\"R^2 score (previous model, testing):\", model_new.score(X_test_new,y_test_new))\n",
    "\n",
    "print(\"The model's performance on the testing set has improved by\", prcnt_change(model_new.score(X_test_new,y_test_new),model_with_memory.score(X_test_memory,y_test_memory)))"
   ]
  },
  {
   "cell_type": "markdown",
   "metadata": {},
   "source": [
    "We will also compute the MAE score of the new model."
   ]
  },
  {
   "cell_type": "code",
   "execution_count": 31,
   "metadata": {},
   "outputs": [
    {
     "name": "stdout",
     "output_type": "stream",
     "text": [
      "Training MAE (model with memory, training): 0.050929584696365535\n",
      "Testing MAE (model with memory, testing): 0.049043274181472085\n"
     ]
    }
   ],
   "source": [
    "print(\"Training MAE (model with memory, training):\", mean_absolute_error(y_train_memory, model_with_memory.predict(X_train_memory)))\n",
    "\n",
    "print(\"Testing MAE (model with memory, testing):\", mean_absolute_error(y_test_memory, model_with_memory.predict(X_test_memory)))"
   ]
  },
  {
   "cell_type": "markdown",
   "metadata": {},
   "source": [
    "The MAE score is low for both training and testing sets for this model. \n",
    "\n",
    "Observe that the testing MAE is slightly less than the training MAE suggesting that the model generalises well and is not overfitting."
   ]
  },
  {
   "cell_type": "markdown",
   "metadata": {},
   "source": [
    "### **Summary.** ###\n",
    "\n",
    "In this project, we aimed to analyse laptop prices using linear regression to determine which features have the most significant impact on price. \n",
    "\n",
    "We started by loading and cleaning the dataset, ensuring that it had no missing values.\n",
    "\n",
    "Our initial model included only the features **CPU Frequency (GHz)** and **RAM (GB)**; as they showed strong correlations with price. The model performed moderately well, but there was room for improvement.\n",
    "\n",
    "To improve the model's performance, we first incorporated the **Company** variable using one-hot encoding. This improved the model’s performance, indicating that the manufacturer has some influence on laptop prices.\n",
    "\n",
    "We further refined our model by adding memory specifications, including **Primary Storage, Secondary Storage**, and **SSD indicators**. This addition led to a notable improvement in model accuracy, both on the training and testing sets."
   ]
  },
  {
   "cell_type": "markdown",
   "metadata": {},
   "source": [
    "### **Future Project.**\n",
    "\n",
    "* Build a web app where users can input laptop specs and receive a price prediction."
   ]
  }
 ],
 "metadata": {
  "kernelspec": {
   "display_name": "Python 3.12.4 ('base')",
   "language": "python",
   "name": "python3"
  },
  "language_info": {
   "codemirror_mode": {
    "name": "ipython",
    "version": 3
   },
   "file_extension": ".py",
   "mimetype": "text/x-python",
   "name": "python",
   "nbconvert_exporter": "python",
   "pygments_lexer": "ipython3",
   "version": "3.8.20"
  },
  "orig_nbformat": 4,
  "vscode": {
   "interpreter": {
    "hash": "3445515a86b35784e9ff0a3867460d917dede3b1e294f9e5a626e6161da088f4"
   }
  }
 },
 "nbformat": 4,
 "nbformat_minor": 2
}
